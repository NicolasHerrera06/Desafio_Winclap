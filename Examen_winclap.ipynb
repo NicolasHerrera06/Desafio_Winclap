{
 "cells": [
  {
   "cell_type": "markdown",
   "metadata": {
    "id": "K-AhpwxhAVK-"
   },
   "source": [
    "# **Prueba técnica Winclap**\n",
    "\n"
   ]
  },
  {
   "cell_type": "markdown",
   "metadata": {
    "id": "ZzEtNJQmTfDu"
   },
   "source": [
    "## Ejercicio 1 \n",
    "Implement the function thousands_with_commas that gets an integer and\n",
    "returns a string with the number with commas every 3 digits.\n",
    "def thousands_with_commas(i):\n",
    "####Escribí tu código aquí.\n",
    "return str(i)\n",
    "if __name__ == '__main__':\n",
    "assert thousands_with_commas(1234) == '1,234'\n",
    "assert thousands_with_commas(123456789) == '123,456,789'\n",
    "assert thousands_with_commas(12) == '12'\n"
   ]
  },
  {
   "cell_type": "markdown",
   "metadata": {
    "id": "SJCqltZ2CWjD"
   },
   "source": [
    "Se crea la función thousands_with_commas\n"
   ]
  },
  {
   "cell_type": "code",
   "execution_count": 1,
   "metadata": {
    "id": "HQ1r_6cJTaXT"
   },
   "outputs": [],
   "source": [
    "def thousands_with_commas(numero):\n",
    "    \"\"\" Dado un entero que retorne un string con the numero separado por comas cada 3 digitos.\n",
    "\n",
    "    Args:\n",
    "        numero(int): Numero a separar por comas \n",
    "    Returns: \n",
    "        string: Numero convertido a string separado por comas.\n",
    "    \"\"\"\n",
    "    string_numero = reversed(str(numero))\n",
    "    contador = 0\n",
    "    resultado = ''\n",
    "    for i in (string_numero):\n",
    "        if contador==3:\n",
    "            resultado = ',' + resultado\n",
    "            resultado = i + resultado\n",
    "            contador = 1\n",
    "        else:\n",
    "            resultado = i + resultado  \n",
    "            contador += 1 \n",
    "    return(resultado)"
   ]
  },
  {
   "cell_type": "markdown",
   "metadata": {
    "id": "Xm2lKrLICkPO"
   },
   "source": [
    "Se llama a la función pasandole un valor por parámetro"
   ]
  },
  {
   "cell_type": "code",
   "execution_count": 2,
   "metadata": {
    "colab": {
     "base_uri": "https://localhost:8080/",
     "height": 35
    },
    "id": "AMupyhUAUdQA",
    "outputId": "96dc3305-4354-41ae-bdef-1f8f5525d45a"
   },
   "outputs": [
    {
     "data": {
      "text/plain": [
       "'1,000,000'"
      ]
     },
     "execution_count": 2,
     "metadata": {},
     "output_type": "execute_result"
    }
   ],
   "source": [
    "thousands_with_commas(1000000)"
   ]
  },
  {
   "cell_type": "markdown",
   "metadata": {
    "id": "crLP2pjnBXaw"
   },
   "source": [
    "## Ejercicio 2  \n",
    "Implement the \"annograms\" function that uses the WORD.LST file to return\n",
    "anagrams of the word given in the \"word\" parameter.\n"
   ]
  },
  {
   "cell_type": "markdown",
   "metadata": {
    "id": "6_TSz8uZC7Pm"
   },
   "source": [
    "Importa librería"
   ]
  },
  {
   "cell_type": "code",
   "execution_count": 3,
   "metadata": {
    "id": "FONSssSgBtz9"
   },
   "outputs": [],
   "source": [
    "from collections import Counter"
   ]
  },
  {
   "cell_type": "markdown",
   "metadata": {
    "id": "bhbgGRDvDAfG"
   },
   "source": [
    "Se define la función"
   ]
  },
  {
   "cell_type": "code",
   "execution_count": 4,
   "metadata": {
    "id": "a0nGEvRPC-SB"
   },
   "outputs": [],
   "source": [
    "def annograms(word):\n",
    "    \"\"\" Dada una cadena retorna una lista con los anagramas que encontro para la palabra de entrada.\n",
    "\n",
    "    Args:\n",
    "        word(strin): palabra ingresada\n",
    "    Returns: \n",
    "        lista: Lista que contiene los anagramas encontrados.\n",
    "    \"\"\"\n",
    "    list = []\n",
    "    words = [w.rstrip() for w in open('./data/WORD.lst')]\n",
    "    for i in words:\n",
    "        if (Counter(word) == Counter(i)):\n",
    "            if word != i:\n",
    "                list.append(i)\n",
    "    return list"
   ]
  },
  {
   "cell_type": "code",
   "execution_count": 5,
   "metadata": {
    "colab": {
     "base_uri": "https://localhost:8080/",
     "height": 287
    },
    "id": "m6ZXBQE5CruR",
    "outputId": "c32b34cc-1fa2-4951-8586-e1108c58df2e"
   },
   "outputs": [
    {
     "name": "stdout",
     "output_type": "stream",
     "text": [
      "['fowler', 'reflow', 'wolfer']\n"
     ]
    }
   ],
   "source": [
    "print(annograms(\"flower\"))"
   ]
  },
  {
   "cell_type": "markdown",
   "metadata": {
    "id": "Ff3j7nwVDu83"
   },
   "source": [
    "## Ejercicio 3 "
   ]
  },
  {
   "cell_type": "code",
   "execution_count": 6,
   "metadata": {
    "id": "lf46W9UHDyKp"
   },
   "outputs": [],
   "source": [
    "def existe(lista, valor):\n",
    "    \"\"\" Dada una lista y un valor se verifica si el valor existe en la lista.\n",
    "\n",
    "    Args:\n",
    "        lista(strin): lista strin\n",
    "        valor(strin): char\n",
    "    Returns: \n",
    "        control(boolean): devuelve una variable boolean si existe ese valor en la lista\n",
    "    \"\"\"\n",
    "    control = False\n",
    "    for i in lista:\n",
    "        if valor == i:\n",
    "            control = True\n",
    "    return control"
   ]
  },
  {
   "cell_type": "code",
   "execution_count": 7,
   "metadata": {
    "id": "JqL_BUnCnoZz"
   },
   "outputs": [],
   "source": [
    "def contador_sueño(numero):\n",
    "    \"\"\" Dado un entero se realiza un ciclo y se verifica si el cada \n",
    "    Cuando se completan las 10 posiciones en una nueva lista \n",
    "        \n",
    "\n",
    "    Args:\n",
    "        numero(int): entero\n",
    "        valor(strin): char\n",
    "    Returns: \n",
    "        string: devuelve un string en caso de que no se hayan completados 10 posiciones en la lista, sino un numero en caso de que la lista tenga 10 posiciones.\n",
    "    \"\"\"\n",
    "    total = 0\n",
    "    limit = 100\n",
    "    registro = ['0','1','2','3','4','5','6','7','8','9']\n",
    "    lista = []\n",
    "    i = 1\n",
    "    while (i <= limit): \n",
    "        total = numero * i \n",
    "        for x in str(total):\n",
    "            if (existe(registro,x)) and not (existe(lista,x)):\n",
    "                lista.append(x)\n",
    "        if len(lista)==10:\n",
    "            break\n",
    "        i += 1 \n",
    "\n",
    "    if len(lista)<10:\n",
    "        return(\"INSOMNIO\")\n",
    "    else:\n",
    "        return(total)"
   ]
  },
  {
   "cell_type": "markdown",
   "metadata": {
    "id": "4Zo9HiCcqzUv"
   },
   "source": [
    "Programa Principal"
   ]
  },
  {
   "cell_type": "code",
   "execution_count": 8,
   "metadata": {
    "colab": {
     "base_uri": "https://localhost:8080/"
    },
    "id": "Fbrl2dMpauyO",
    "outputId": "122e9818-6c8f-42a1-da0b-e69afec4794e"
   },
   "outputs": [
    {
     "name": "stdout",
     "output_type": "stream",
     "text": [
      "INSOMNIO\n",
      "10\n",
      "90\n",
      "110\n",
      "5076\n"
     ]
    }
   ],
   "source": [
    "prueba = [5,0,1,2,11,1692]\n",
    "\n",
    "for numero_prueba in range(prueba[0]):\n",
    "    print(contador_sueño(prueba[numero_prueba+1]))"
   ]
  },
  {
   "cell_type": "markdown",
   "metadata": {
    "id": "_BFBCMRPjbWg"
   },
   "source": [
    "## Ejercicio 4  \n",
    "\n",
    "Given the following dataset: applicationdata.\n",
    "Generate a report with a tool of your choice (eg. pandas, jupyter notebooks, etc),\n",
    "the report must comply the following requirements :\n",
    "\n",
    "    a. The summary_date must be in ISO Date format.\n",
    "\n",
    "    b. The metrics must be grouped by campaign.\n",
    "\n",
    "    c. The metrics that must be:\n",
    "\n",
    "    i. Number of impressions.\n",
    "\n",
    "    ii. Number of clicks.\n",
    "\n",
    "    iii. Number of installs.\n",
    "\n",
    "    iv. Amount of spend.\n",
    "\n",
    "    v. CTR (number of clicks/number of impressions)\n",
    "\n",
    "    vi. CPI (amount of spend/number of installs)\n",
    "\n",
    "  **Plus: if you wish, include an exploratory analysis of the dataset.**"
   ]
  },
  {
   "cell_type": "markdown",
   "metadata": {
    "id": "lyPk0yqMspej"
   },
   "source": [
    "Importamos librerías "
   ]
  },
  {
   "cell_type": "code",
   "execution_count": 11,
   "metadata": {
    "id": "KXj7XSozjM0f"
   },
   "outputs": [],
   "source": [
    "import pandas as pd\n",
    "import numpy as np\n",
    "import matplotlib.pyplot as plt\n",
    "import seaborn as sns"
   ]
  },
  {
   "cell_type": "markdown",
   "metadata": {
    "id": "a1IMnEATss3L"
   },
   "source": [
    "Cargamos el csv y creamos un DataFrame"
   ]
  },
  {
   "cell_type": "code",
   "execution_count": 12,
   "metadata": {
    "colab": {
     "base_uri": "https://localhost:8080/",
     "height": 206
    },
    "id": "vK5d0DK3kblx",
    "outputId": "dd005f3c-e557-4014-dec6-d1514d1d3c0f"
   },
   "outputs": [
    {
     "data": {
      "text/html": [
       "<div>\n",
       "<style scoped>\n",
       "    .dataframe tbody tr th:only-of-type {\n",
       "        vertical-align: middle;\n",
       "    }\n",
       "\n",
       "    .dataframe tbody tr th {\n",
       "        vertical-align: top;\n",
       "    }\n",
       "\n",
       "    .dataframe thead th {\n",
       "        text-align: right;\n",
       "    }\n",
       "</style>\n",
       "<table border=\"1\" class=\"dataframe\">\n",
       "  <thead>\n",
       "    <tr style=\"text-align: right;\">\n",
       "      <th></th>\n",
       "      <th>summary_date</th>\n",
       "      <th>app_id</th>\n",
       "      <th>app_type</th>\n",
       "      <th>app_name</th>\n",
       "      <th>campaign_id</th>\n",
       "      <th>campaign_name</th>\n",
       "      <th>ad_id</th>\n",
       "      <th>ad_name</th>\n",
       "      <th>impressions</th>\n",
       "      <th>clicks</th>\n",
       "      <th>installs</th>\n",
       "      <th>spend</th>\n",
       "      <th>event_name</th>\n",
       "      <th>events_d0</th>\n",
       "      <th>events_d7</th>\n",
       "      <th>unique_events_d0</th>\n",
       "      <th>unique_events_d7</th>\n",
       "    </tr>\n",
       "  </thead>\n",
       "  <tbody>\n",
       "    <tr>\n",
       "      <th>0</th>\n",
       "      <td>2022.06.14</td>\n",
       "      <td>com.super.app</td>\n",
       "      <td>android</td>\n",
       "      <td>Super App 2000</td>\n",
       "      <td>campaign_16</td>\n",
       "      <td>Super campaign 16</td>\n",
       "      <td>ad_16L8hGR</td>\n",
       "      <td>Super AD 16L8hGR</td>\n",
       "      <td>82.0</td>\n",
       "      <td>46.0</td>\n",
       "      <td>NaN</td>\n",
       "      <td>0.00455</td>\n",
       "      <td>super_event</td>\n",
       "      <td>NaN</td>\n",
       "      <td>NaN</td>\n",
       "      <td>NaN</td>\n",
       "      <td>NaN</td>\n",
       "    </tr>\n",
       "    <tr>\n",
       "      <th>1</th>\n",
       "      <td>2022.07.10</td>\n",
       "      <td>com.super.app</td>\n",
       "      <td>android</td>\n",
       "      <td>Super App 2000</td>\n",
       "      <td>campaign_16</td>\n",
       "      <td>Super campaign 16</td>\n",
       "      <td>ad_16z49oF</td>\n",
       "      <td>Super AD 16z49oF</td>\n",
       "      <td>1942.0</td>\n",
       "      <td>1226.0</td>\n",
       "      <td>2.0</td>\n",
       "      <td>0.88920</td>\n",
       "      <td>super_event</td>\n",
       "      <td>0.0</td>\n",
       "      <td>0.0</td>\n",
       "      <td>0.0</td>\n",
       "      <td>0.0</td>\n",
       "    </tr>\n",
       "    <tr>\n",
       "      <th>2</th>\n",
       "      <td>2022.07.05</td>\n",
       "      <td>com.super.app</td>\n",
       "      <td>android</td>\n",
       "      <td>Super App 2000</td>\n",
       "      <td>campaign_16</td>\n",
       "      <td>Super campaign 16</td>\n",
       "      <td>ad_16DpJ5e</td>\n",
       "      <td>Super AD 16DpJ5e</td>\n",
       "      <td>116.0</td>\n",
       "      <td>2.0</td>\n",
       "      <td>NaN</td>\n",
       "      <td>0.00715</td>\n",
       "      <td>super_event</td>\n",
       "      <td>NaN</td>\n",
       "      <td>NaN</td>\n",
       "      <td>NaN</td>\n",
       "      <td>NaN</td>\n",
       "    </tr>\n",
       "    <tr>\n",
       "      <th>3</th>\n",
       "      <td>2022.06.01</td>\n",
       "      <td>com.super.app</td>\n",
       "      <td>android</td>\n",
       "      <td>Super App 2000</td>\n",
       "      <td>campaign_16</td>\n",
       "      <td>Super campaign 16</td>\n",
       "      <td>ad_16sutOl</td>\n",
       "      <td>Super AD 16sutOl</td>\n",
       "      <td>15550.0</td>\n",
       "      <td>18.0</td>\n",
       "      <td>4.0</td>\n",
       "      <td>0.52455</td>\n",
       "      <td>super_event</td>\n",
       "      <td>0.0</td>\n",
       "      <td>0.0</td>\n",
       "      <td>0.0</td>\n",
       "      <td>0.0</td>\n",
       "    </tr>\n",
       "    <tr>\n",
       "      <th>4</th>\n",
       "      <td>2022.07.25</td>\n",
       "      <td>com.super.app</td>\n",
       "      <td>android</td>\n",
       "      <td>Super App 2000</td>\n",
       "      <td>campaign_16</td>\n",
       "      <td>Super campaign 16</td>\n",
       "      <td>ad_16ZEk4H</td>\n",
       "      <td>Super AD 16ZEk4H</td>\n",
       "      <td>0.0</td>\n",
       "      <td>0.0</td>\n",
       "      <td>2.0</td>\n",
       "      <td>0.00000</td>\n",
       "      <td>super_event</td>\n",
       "      <td>0.0</td>\n",
       "      <td>0.0</td>\n",
       "      <td>0.0</td>\n",
       "      <td>0.0</td>\n",
       "    </tr>\n",
       "  </tbody>\n",
       "</table>\n",
       "</div>"
      ],
      "text/plain": [
       "  summary_date         app_id app_type        app_name  campaign_id  \\\n",
       "0   2022.06.14  com.super.app  android  Super App 2000  campaign_16   \n",
       "1   2022.07.10  com.super.app  android  Super App 2000  campaign_16   \n",
       "2   2022.07.05  com.super.app  android  Super App 2000  campaign_16   \n",
       "3   2022.06.01  com.super.app  android  Super App 2000  campaign_16   \n",
       "4   2022.07.25  com.super.app  android  Super App 2000  campaign_16   \n",
       "\n",
       "       campaign_name       ad_id           ad_name  impressions  clicks  \\\n",
       "0  Super campaign 16  ad_16L8hGR  Super AD 16L8hGR         82.0    46.0   \n",
       "1  Super campaign 16  ad_16z49oF  Super AD 16z49oF       1942.0  1226.0   \n",
       "2  Super campaign 16  ad_16DpJ5e  Super AD 16DpJ5e        116.0     2.0   \n",
       "3  Super campaign 16  ad_16sutOl  Super AD 16sutOl      15550.0    18.0   \n",
       "4  Super campaign 16  ad_16ZEk4H  Super AD 16ZEk4H          0.0     0.0   \n",
       "\n",
       "   installs    spend   event_name  events_d0  events_d7  unique_events_d0  \\\n",
       "0       NaN  0.00455  super_event        NaN        NaN               NaN   \n",
       "1       2.0  0.88920  super_event        0.0        0.0               0.0   \n",
       "2       NaN  0.00715  super_event        NaN        NaN               NaN   \n",
       "3       4.0  0.52455  super_event        0.0        0.0               0.0   \n",
       "4       2.0  0.00000  super_event        0.0        0.0               0.0   \n",
       "\n",
       "   unique_events_d7  \n",
       "0               NaN  \n",
       "1               0.0  \n",
       "2               NaN  \n",
       "3               0.0  \n",
       "4               0.0  "
      ]
     },
     "execution_count": 12,
     "metadata": {},
     "output_type": "execute_result"
    }
   ],
   "source": [
    "df = pd.read_csv('./data/dataset.csv')\n",
    "df.head()"
   ]
  },
  {
   "cell_type": "code",
   "execution_count": 13,
   "metadata": {
    "colab": {
     "base_uri": "https://localhost:8080/"
    },
    "id": "4ZEmIz4PEvMK",
    "outputId": "6f6fd490-bc6f-4764-f418-624b6fa152ff"
   },
   "outputs": [
    {
     "data": {
      "text/plain": [
       "(1570, 17)"
      ]
     },
     "execution_count": 13,
     "metadata": {},
     "output_type": "execute_result"
    }
   ],
   "source": [
    "df.shape"
   ]
  },
  {
   "cell_type": "code",
   "execution_count": 14,
   "metadata": {
    "colab": {
     "base_uri": "https://localhost:8080/"
    },
    "id": "-aYnd7Cgl9h-",
    "outputId": "bcf452d2-0bf9-4f9e-db5c-6ce79905adfa"
   },
   "outputs": [
    {
     "name": "stdout",
     "output_type": "stream",
     "text": [
      "<class 'pandas.core.frame.DataFrame'>\n",
      "RangeIndex: 1570 entries, 0 to 1569\n",
      "Data columns (total 17 columns):\n",
      " #   Column            Non-Null Count  Dtype  \n",
      "---  ------            --------------  -----  \n",
      " 0   summary_date      1570 non-null   object \n",
      " 1   app_id            1570 non-null   object \n",
      " 2   app_type          1570 non-null   object \n",
      " 3   app_name          1570 non-null   object \n",
      " 4   campaign_id       1570 non-null   object \n",
      " 5   campaign_name     1570 non-null   object \n",
      " 6   ad_id             1453 non-null   object \n",
      " 7   ad_name           1453 non-null   object \n",
      " 8   impressions       1489 non-null   float64\n",
      " 9   clicks            1489 non-null   float64\n",
      " 10  installs          826 non-null    float64\n",
      " 11  spend             1489 non-null   float64\n",
      " 12  event_name        1570 non-null   object \n",
      " 13  events_d0         826 non-null    float64\n",
      " 14  events_d7         826 non-null    float64\n",
      " 15  unique_events_d0  826 non-null    float64\n",
      " 16  unique_events_d7  826 non-null    float64\n",
      "dtypes: float64(8), object(9)\n",
      "memory usage: 208.6+ KB\n"
     ]
    }
   ],
   "source": [
    "df.info()"
   ]
  },
  {
   "cell_type": "code",
   "execution_count": 15,
   "metadata": {
    "colab": {
     "base_uri": "https://localhost:8080/"
    },
    "id": "WM5C16turYbJ",
    "outputId": "a1b0ad4c-6fb8-4d60-dc9c-3216b60e857e"
   },
   "outputs": [
    {
     "data": {
      "text/plain": [
       "summary_date        1570\n",
       "app_id              1570\n",
       "app_type            1570\n",
       "app_name            1570\n",
       "campaign_id         1570\n",
       "campaign_name       1570\n",
       "ad_id               1453\n",
       "ad_name             1453\n",
       "impressions         1489\n",
       "clicks              1489\n",
       "installs             826\n",
       "spend               1489\n",
       "event_name          1570\n",
       "events_d0            826\n",
       "events_d7            826\n",
       "unique_events_d0     826\n",
       "unique_events_d7     826\n",
       "dtype: int64"
      ]
     },
     "execution_count": 15,
     "metadata": {},
     "output_type": "execute_result"
    }
   ],
   "source": [
    "df.count()"
   ]
  },
  {
   "cell_type": "code",
   "execution_count": 16,
   "metadata": {
    "colab": {
     "base_uri": "https://localhost:8080/",
     "height": 300
    },
    "id": "jlqtQjpysN90",
    "outputId": "24593215-f40c-4c87-dcc6-c954c0ae32ff"
   },
   "outputs": [
    {
     "data": {
      "text/html": [
       "<div>\n",
       "<style scoped>\n",
       "    .dataframe tbody tr th:only-of-type {\n",
       "        vertical-align: middle;\n",
       "    }\n",
       "\n",
       "    .dataframe tbody tr th {\n",
       "        vertical-align: top;\n",
       "    }\n",
       "\n",
       "    .dataframe thead th {\n",
       "        text-align: right;\n",
       "    }\n",
       "</style>\n",
       "<table border=\"1\" class=\"dataframe\">\n",
       "  <thead>\n",
       "    <tr style=\"text-align: right;\">\n",
       "      <th></th>\n",
       "      <th>impressions</th>\n",
       "      <th>clicks</th>\n",
       "      <th>installs</th>\n",
       "      <th>spend</th>\n",
       "      <th>events_d0</th>\n",
       "      <th>events_d7</th>\n",
       "      <th>unique_events_d0</th>\n",
       "      <th>unique_events_d7</th>\n",
       "    </tr>\n",
       "  </thead>\n",
       "  <tbody>\n",
       "    <tr>\n",
       "      <th>count</th>\n",
       "      <td>1.489000e+03</td>\n",
       "      <td>1.489000e+03</td>\n",
       "      <td>826.000000</td>\n",
       "      <td>1489.000000</td>\n",
       "      <td>826.000000</td>\n",
       "      <td>826.000000</td>\n",
       "      <td>826.000000</td>\n",
       "      <td>826.000000</td>\n",
       "    </tr>\n",
       "    <tr>\n",
       "      <th>mean</th>\n",
       "      <td>2.289176e+05</td>\n",
       "      <td>5.648466e+03</td>\n",
       "      <td>954.670702</td>\n",
       "      <td>51.666529</td>\n",
       "      <td>4.322034</td>\n",
       "      <td>5.491525</td>\n",
       "      <td>3.573850</td>\n",
       "      <td>4.210654</td>\n",
       "    </tr>\n",
       "    <tr>\n",
       "      <th>std</th>\n",
       "      <td>6.223744e+05</td>\n",
       "      <td>4.006779e+04</td>\n",
       "      <td>5317.702577</td>\n",
       "      <td>294.343442</td>\n",
       "      <td>10.845378</td>\n",
       "      <td>14.054200</td>\n",
       "      <td>8.846297</td>\n",
       "      <td>10.448334</td>\n",
       "    </tr>\n",
       "    <tr>\n",
       "      <th>min</th>\n",
       "      <td>0.000000e+00</td>\n",
       "      <td>0.000000e+00</td>\n",
       "      <td>2.000000</td>\n",
       "      <td>0.000000</td>\n",
       "      <td>0.000000</td>\n",
       "      <td>0.000000</td>\n",
       "      <td>0.000000</td>\n",
       "      <td>0.000000</td>\n",
       "    </tr>\n",
       "    <tr>\n",
       "      <th>25%</th>\n",
       "      <td>4.800000e+01</td>\n",
       "      <td>6.000000e+00</td>\n",
       "      <td>4.000000</td>\n",
       "      <td>0.011700</td>\n",
       "      <td>0.000000</td>\n",
       "      <td>0.000000</td>\n",
       "      <td>0.000000</td>\n",
       "      <td>0.000000</td>\n",
       "    </tr>\n",
       "    <tr>\n",
       "      <th>50%</th>\n",
       "      <td>4.984000e+03</td>\n",
       "      <td>9.000000e+01</td>\n",
       "      <td>12.000000</td>\n",
       "      <td>0.689650</td>\n",
       "      <td>0.000000</td>\n",
       "      <td>0.000000</td>\n",
       "      <td>0.000000</td>\n",
       "      <td>0.000000</td>\n",
       "    </tr>\n",
       "    <tr>\n",
       "      <th>75%</th>\n",
       "      <td>7.424400e+04</td>\n",
       "      <td>1.288000e+03</td>\n",
       "      <td>42.000000</td>\n",
       "      <td>9.286550</td>\n",
       "      <td>2.000000</td>\n",
       "      <td>4.000000</td>\n",
       "      <td>2.000000</td>\n",
       "      <td>2.000000</td>\n",
       "    </tr>\n",
       "    <tr>\n",
       "      <th>max</th>\n",
       "      <td>5.825656e+06</td>\n",
       "      <td>1.215918e+06</td>\n",
       "      <td>83240.000000</td>\n",
       "      <td>4803.045000</td>\n",
       "      <td>82.000000</td>\n",
       "      <td>116.000000</td>\n",
       "      <td>58.000000</td>\n",
       "      <td>68.000000</td>\n",
       "    </tr>\n",
       "  </tbody>\n",
       "</table>\n",
       "</div>"
      ],
      "text/plain": [
       "        impressions        clicks      installs        spend   events_d0  \\\n",
       "count  1.489000e+03  1.489000e+03    826.000000  1489.000000  826.000000   \n",
       "mean   2.289176e+05  5.648466e+03    954.670702    51.666529    4.322034   \n",
       "std    6.223744e+05  4.006779e+04   5317.702577   294.343442   10.845378   \n",
       "min    0.000000e+00  0.000000e+00      2.000000     0.000000    0.000000   \n",
       "25%    4.800000e+01  6.000000e+00      4.000000     0.011700    0.000000   \n",
       "50%    4.984000e+03  9.000000e+01     12.000000     0.689650    0.000000   \n",
       "75%    7.424400e+04  1.288000e+03     42.000000     9.286550    2.000000   \n",
       "max    5.825656e+06  1.215918e+06  83240.000000  4803.045000   82.000000   \n",
       "\n",
       "        events_d7  unique_events_d0  unique_events_d7  \n",
       "count  826.000000        826.000000        826.000000  \n",
       "mean     5.491525          3.573850          4.210654  \n",
       "std     14.054200          8.846297         10.448334  \n",
       "min      0.000000          0.000000          0.000000  \n",
       "25%      0.000000          0.000000          0.000000  \n",
       "50%      0.000000          0.000000          0.000000  \n",
       "75%      4.000000          2.000000          2.000000  \n",
       "max    116.000000         58.000000         68.000000  "
      ]
     },
     "execution_count": 16,
     "metadata": {},
     "output_type": "execute_result"
    }
   ],
   "source": [
    "df.describe()"
   ]
  },
  {
   "cell_type": "markdown",
   "metadata": {
    "id": "j6hZ88lxFEbO"
   },
   "source": [
    "Se convierte el campo \"summary_date\" a formato date ISO"
   ]
  },
  {
   "cell_type": "code",
   "execution_count": 17,
   "metadata": {
    "id": "9tnIv5hdKPrd"
   },
   "outputs": [],
   "source": [
    "df[\"summary_date\"] = pd.to_datetime(df[\"summary_date\"])"
   ]
  },
  {
   "cell_type": "markdown",
   "metadata": {
    "id": "x2fGKGqTFV_V"
   },
   "source": [
    "Verificación de la modificación"
   ]
  },
  {
   "cell_type": "code",
   "execution_count": 18,
   "metadata": {
    "colab": {
     "base_uri": "https://localhost:8080/",
     "height": 206
    },
    "id": "Y7dfBXrpKzqN",
    "outputId": "e6696937-705f-4a84-fa2a-e62656980ca0"
   },
   "outputs": [
    {
     "data": {
      "text/html": [
       "<div>\n",
       "<style scoped>\n",
       "    .dataframe tbody tr th:only-of-type {\n",
       "        vertical-align: middle;\n",
       "    }\n",
       "\n",
       "    .dataframe tbody tr th {\n",
       "        vertical-align: top;\n",
       "    }\n",
       "\n",
       "    .dataframe thead th {\n",
       "        text-align: right;\n",
       "    }\n",
       "</style>\n",
       "<table border=\"1\" class=\"dataframe\">\n",
       "  <thead>\n",
       "    <tr style=\"text-align: right;\">\n",
       "      <th></th>\n",
       "      <th>summary_date</th>\n",
       "      <th>app_id</th>\n",
       "      <th>app_type</th>\n",
       "      <th>app_name</th>\n",
       "      <th>campaign_id</th>\n",
       "      <th>campaign_name</th>\n",
       "      <th>ad_id</th>\n",
       "      <th>ad_name</th>\n",
       "      <th>impressions</th>\n",
       "      <th>clicks</th>\n",
       "      <th>installs</th>\n",
       "      <th>spend</th>\n",
       "      <th>event_name</th>\n",
       "      <th>events_d0</th>\n",
       "      <th>events_d7</th>\n",
       "      <th>unique_events_d0</th>\n",
       "      <th>unique_events_d7</th>\n",
       "    </tr>\n",
       "  </thead>\n",
       "  <tbody>\n",
       "    <tr>\n",
       "      <th>0</th>\n",
       "      <td>2022-06-14</td>\n",
       "      <td>com.super.app</td>\n",
       "      <td>android</td>\n",
       "      <td>Super App 2000</td>\n",
       "      <td>campaign_16</td>\n",
       "      <td>Super campaign 16</td>\n",
       "      <td>ad_16L8hGR</td>\n",
       "      <td>Super AD 16L8hGR</td>\n",
       "      <td>82.0</td>\n",
       "      <td>46.0</td>\n",
       "      <td>NaN</td>\n",
       "      <td>0.00455</td>\n",
       "      <td>super_event</td>\n",
       "      <td>NaN</td>\n",
       "      <td>NaN</td>\n",
       "      <td>NaN</td>\n",
       "      <td>NaN</td>\n",
       "    </tr>\n",
       "    <tr>\n",
       "      <th>1</th>\n",
       "      <td>2022-07-10</td>\n",
       "      <td>com.super.app</td>\n",
       "      <td>android</td>\n",
       "      <td>Super App 2000</td>\n",
       "      <td>campaign_16</td>\n",
       "      <td>Super campaign 16</td>\n",
       "      <td>ad_16z49oF</td>\n",
       "      <td>Super AD 16z49oF</td>\n",
       "      <td>1942.0</td>\n",
       "      <td>1226.0</td>\n",
       "      <td>2.0</td>\n",
       "      <td>0.88920</td>\n",
       "      <td>super_event</td>\n",
       "      <td>0.0</td>\n",
       "      <td>0.0</td>\n",
       "      <td>0.0</td>\n",
       "      <td>0.0</td>\n",
       "    </tr>\n",
       "    <tr>\n",
       "      <th>2</th>\n",
       "      <td>2022-07-05</td>\n",
       "      <td>com.super.app</td>\n",
       "      <td>android</td>\n",
       "      <td>Super App 2000</td>\n",
       "      <td>campaign_16</td>\n",
       "      <td>Super campaign 16</td>\n",
       "      <td>ad_16DpJ5e</td>\n",
       "      <td>Super AD 16DpJ5e</td>\n",
       "      <td>116.0</td>\n",
       "      <td>2.0</td>\n",
       "      <td>NaN</td>\n",
       "      <td>0.00715</td>\n",
       "      <td>super_event</td>\n",
       "      <td>NaN</td>\n",
       "      <td>NaN</td>\n",
       "      <td>NaN</td>\n",
       "      <td>NaN</td>\n",
       "    </tr>\n",
       "    <tr>\n",
       "      <th>3</th>\n",
       "      <td>2022-06-01</td>\n",
       "      <td>com.super.app</td>\n",
       "      <td>android</td>\n",
       "      <td>Super App 2000</td>\n",
       "      <td>campaign_16</td>\n",
       "      <td>Super campaign 16</td>\n",
       "      <td>ad_16sutOl</td>\n",
       "      <td>Super AD 16sutOl</td>\n",
       "      <td>15550.0</td>\n",
       "      <td>18.0</td>\n",
       "      <td>4.0</td>\n",
       "      <td>0.52455</td>\n",
       "      <td>super_event</td>\n",
       "      <td>0.0</td>\n",
       "      <td>0.0</td>\n",
       "      <td>0.0</td>\n",
       "      <td>0.0</td>\n",
       "    </tr>\n",
       "    <tr>\n",
       "      <th>4</th>\n",
       "      <td>2022-07-25</td>\n",
       "      <td>com.super.app</td>\n",
       "      <td>android</td>\n",
       "      <td>Super App 2000</td>\n",
       "      <td>campaign_16</td>\n",
       "      <td>Super campaign 16</td>\n",
       "      <td>ad_16ZEk4H</td>\n",
       "      <td>Super AD 16ZEk4H</td>\n",
       "      <td>0.0</td>\n",
       "      <td>0.0</td>\n",
       "      <td>2.0</td>\n",
       "      <td>0.00000</td>\n",
       "      <td>super_event</td>\n",
       "      <td>0.0</td>\n",
       "      <td>0.0</td>\n",
       "      <td>0.0</td>\n",
       "      <td>0.0</td>\n",
       "    </tr>\n",
       "  </tbody>\n",
       "</table>\n",
       "</div>"
      ],
      "text/plain": [
       "  summary_date         app_id app_type        app_name  campaign_id  \\\n",
       "0   2022-06-14  com.super.app  android  Super App 2000  campaign_16   \n",
       "1   2022-07-10  com.super.app  android  Super App 2000  campaign_16   \n",
       "2   2022-07-05  com.super.app  android  Super App 2000  campaign_16   \n",
       "3   2022-06-01  com.super.app  android  Super App 2000  campaign_16   \n",
       "4   2022-07-25  com.super.app  android  Super App 2000  campaign_16   \n",
       "\n",
       "       campaign_name       ad_id           ad_name  impressions  clicks  \\\n",
       "0  Super campaign 16  ad_16L8hGR  Super AD 16L8hGR         82.0    46.0   \n",
       "1  Super campaign 16  ad_16z49oF  Super AD 16z49oF       1942.0  1226.0   \n",
       "2  Super campaign 16  ad_16DpJ5e  Super AD 16DpJ5e        116.0     2.0   \n",
       "3  Super campaign 16  ad_16sutOl  Super AD 16sutOl      15550.0    18.0   \n",
       "4  Super campaign 16  ad_16ZEk4H  Super AD 16ZEk4H          0.0     0.0   \n",
       "\n",
       "   installs    spend   event_name  events_d0  events_d7  unique_events_d0  \\\n",
       "0       NaN  0.00455  super_event        NaN        NaN               NaN   \n",
       "1       2.0  0.88920  super_event        0.0        0.0               0.0   \n",
       "2       NaN  0.00715  super_event        NaN        NaN               NaN   \n",
       "3       4.0  0.52455  super_event        0.0        0.0               0.0   \n",
       "4       2.0  0.00000  super_event        0.0        0.0               0.0   \n",
       "\n",
       "   unique_events_d7  \n",
       "0               NaN  \n",
       "1               0.0  \n",
       "2               NaN  \n",
       "3               0.0  \n",
       "4               0.0  "
      ]
     },
     "execution_count": 18,
     "metadata": {},
     "output_type": "execute_result"
    }
   ],
   "source": [
    "df.head()"
   ]
  },
  {
   "cell_type": "code",
   "execution_count": 19,
   "metadata": {
    "colab": {
     "base_uri": "https://localhost:8080/",
     "height": 206
    },
    "id": "5uPTZN5i00zv",
    "outputId": "025242e4-7ccf-448a-d5e9-e9b75a6dc869"
   },
   "outputs": [
    {
     "data": {
      "text/html": [
       "<div>\n",
       "<style scoped>\n",
       "    .dataframe tbody tr th:only-of-type {\n",
       "        vertical-align: middle;\n",
       "    }\n",
       "\n",
       "    .dataframe tbody tr th {\n",
       "        vertical-align: top;\n",
       "    }\n",
       "\n",
       "    .dataframe thead th {\n",
       "        text-align: right;\n",
       "    }\n",
       "</style>\n",
       "<table border=\"1\" class=\"dataframe\">\n",
       "  <thead>\n",
       "    <tr style=\"text-align: right;\">\n",
       "      <th></th>\n",
       "      <th>campaign_id</th>\n",
       "      <th>impressions</th>\n",
       "      <th>clicks</th>\n",
       "      <th>installs</th>\n",
       "      <th>spend</th>\n",
       "    </tr>\n",
       "  </thead>\n",
       "  <tbody>\n",
       "    <tr>\n",
       "      <th>0</th>\n",
       "      <td>campaign_16</td>\n",
       "      <td>82.0</td>\n",
       "      <td>46.0</td>\n",
       "      <td>NaN</td>\n",
       "      <td>0.00455</td>\n",
       "    </tr>\n",
       "    <tr>\n",
       "      <th>1</th>\n",
       "      <td>campaign_16</td>\n",
       "      <td>1942.0</td>\n",
       "      <td>1226.0</td>\n",
       "      <td>2.0</td>\n",
       "      <td>0.88920</td>\n",
       "    </tr>\n",
       "    <tr>\n",
       "      <th>2</th>\n",
       "      <td>campaign_16</td>\n",
       "      <td>116.0</td>\n",
       "      <td>2.0</td>\n",
       "      <td>NaN</td>\n",
       "      <td>0.00715</td>\n",
       "    </tr>\n",
       "    <tr>\n",
       "      <th>3</th>\n",
       "      <td>campaign_16</td>\n",
       "      <td>15550.0</td>\n",
       "      <td>18.0</td>\n",
       "      <td>4.0</td>\n",
       "      <td>0.52455</td>\n",
       "    </tr>\n",
       "    <tr>\n",
       "      <th>4</th>\n",
       "      <td>campaign_16</td>\n",
       "      <td>0.0</td>\n",
       "      <td>0.0</td>\n",
       "      <td>2.0</td>\n",
       "      <td>0.00000</td>\n",
       "    </tr>\n",
       "  </tbody>\n",
       "</table>\n",
       "</div>"
      ],
      "text/plain": [
       "   campaign_id  impressions  clicks  installs    spend\n",
       "0  campaign_16         82.0    46.0       NaN  0.00455\n",
       "1  campaign_16       1942.0  1226.0       2.0  0.88920\n",
       "2  campaign_16        116.0     2.0       NaN  0.00715\n",
       "3  campaign_16      15550.0    18.0       4.0  0.52455\n",
       "4  campaign_16          0.0     0.0       2.0  0.00000"
      ]
     },
     "execution_count": 19,
     "metadata": {},
     "output_type": "execute_result"
    }
   ],
   "source": [
    "df_reducido= df[['campaign_id','impressions','clicks','installs','spend']]\n",
    "df_reducido.head()"
   ]
  },
  {
   "cell_type": "markdown",
   "metadata": {
    "id": "evUzzBzWLP3W"
   },
   "source": [
    "Se agrega por campañas"
   ]
  },
  {
   "cell_type": "code",
   "execution_count": 21,
   "metadata": {
    "id": "mPEXfiiP14HY"
   },
   "outputs": [],
   "source": [
    "df_campanias = df_reducido.groupby(['campaign_id'], sort = True)[['impressions','clicks','installs','spend']].sum()"
   ]
  },
  {
   "cell_type": "code",
   "execution_count": 22,
   "metadata": {
    "colab": {
     "base_uri": "https://localhost:8080/",
     "height": 238
    },
    "id": "ijRnMfsV2N-P",
    "outputId": "7e0e4b2a-a41d-44a2-b40a-0e6a929c2789"
   },
   "outputs": [
    {
     "data": {
      "text/html": [
       "<div>\n",
       "<style scoped>\n",
       "    .dataframe tbody tr th:only-of-type {\n",
       "        vertical-align: middle;\n",
       "    }\n",
       "\n",
       "    .dataframe tbody tr th {\n",
       "        vertical-align: top;\n",
       "    }\n",
       "\n",
       "    .dataframe thead th {\n",
       "        text-align: right;\n",
       "    }\n",
       "</style>\n",
       "<table border=\"1\" class=\"dataframe\">\n",
       "  <thead>\n",
       "    <tr style=\"text-align: right;\">\n",
       "      <th></th>\n",
       "      <th>impressions</th>\n",
       "      <th>clicks</th>\n",
       "      <th>installs</th>\n",
       "      <th>spend</th>\n",
       "    </tr>\n",
       "    <tr>\n",
       "      <th>campaign_id</th>\n",
       "      <th></th>\n",
       "      <th></th>\n",
       "      <th></th>\n",
       "      <th></th>\n",
       "    </tr>\n",
       "  </thead>\n",
       "  <tbody>\n",
       "    <tr>\n",
       "      <th>campaign_10</th>\n",
       "      <td>0.0</td>\n",
       "      <td>5429764.0</td>\n",
       "      <td>213682.0</td>\n",
       "      <td>57194.6700</td>\n",
       "    </tr>\n",
       "    <tr>\n",
       "      <th>campaign_13</th>\n",
       "      <td>0.0</td>\n",
       "      <td>0.0</td>\n",
       "      <td>2.0</td>\n",
       "      <td>0.0000</td>\n",
       "    </tr>\n",
       "    <tr>\n",
       "      <th>campaign_16</th>\n",
       "      <td>245177026.0</td>\n",
       "      <td>2132984.0</td>\n",
       "      <td>28776.0</td>\n",
       "      <td>18314.5937</td>\n",
       "    </tr>\n",
       "    <tr>\n",
       "      <th>campaign_4</th>\n",
       "      <td>0.0</td>\n",
       "      <td>0.0</td>\n",
       "      <td>26.0</td>\n",
       "      <td>0.0000</td>\n",
       "    </tr>\n",
       "    <tr>\n",
       "      <th>campaign_5</th>\n",
       "      <td>0.0</td>\n",
       "      <td>0.0</td>\n",
       "      <td>1072.0</td>\n",
       "      <td>0.0000</td>\n",
       "    </tr>\n",
       "  </tbody>\n",
       "</table>\n",
       "</div>"
      ],
      "text/plain": [
       "             impressions     clicks  installs       spend\n",
       "campaign_id                                              \n",
       "campaign_10          0.0  5429764.0  213682.0  57194.6700\n",
       "campaign_13          0.0        0.0       2.0      0.0000\n",
       "campaign_16  245177026.0  2132984.0   28776.0  18314.5937\n",
       "campaign_4           0.0        0.0      26.0      0.0000\n",
       "campaign_5           0.0        0.0    1072.0      0.0000"
      ]
     },
     "execution_count": 22,
     "metadata": {},
     "output_type": "execute_result"
    }
   ],
   "source": [
    "df_campanias.head()"
   ]
  },
  {
   "cell_type": "code",
   "execution_count": 23,
   "metadata": {
    "id": "dZeBKfOo7oUe"
   },
   "outputs": [],
   "source": [
    "ctr = (df_campanias[\"clicks\"] / df_campanias[\"impressions\"])\n",
    "df_campanias[\"CTR\"] = (df_campanias[\"clicks\"] / df_campanias[\"impressions\"])"
   ]
  },
  {
   "cell_type": "code",
   "execution_count": 24,
   "metadata": {
    "id": "1ouY9ani7rdm"
   },
   "outputs": [],
   "source": [
    "cpi = (df_campanias[\"spend\"] / df_campanias[\"installs\"])\n",
    "df_campanias[\"CPI\"] = (df_campanias[\"spend\"] / df_campanias[\"installs\"])"
   ]
  },
  {
   "cell_type": "code",
   "execution_count": 25,
   "metadata": {
    "colab": {
     "base_uri": "https://localhost:8080/",
     "height": 300
    },
    "id": "xdjBn0Ze8foH",
    "outputId": "b114e513-efbd-4081-d9fd-5bc761500bcd"
   },
   "outputs": [
    {
     "data": {
      "text/html": [
       "<div>\n",
       "<style scoped>\n",
       "    .dataframe tbody tr th:only-of-type {\n",
       "        vertical-align: middle;\n",
       "    }\n",
       "\n",
       "    .dataframe tbody tr th {\n",
       "        vertical-align: top;\n",
       "    }\n",
       "\n",
       "    .dataframe thead th {\n",
       "        text-align: right;\n",
       "    }\n",
       "</style>\n",
       "<table border=\"1\" class=\"dataframe\">\n",
       "  <thead>\n",
       "    <tr style=\"text-align: right;\">\n",
       "      <th></th>\n",
       "      <th>impressions</th>\n",
       "      <th>clicks</th>\n",
       "      <th>installs</th>\n",
       "      <th>spend</th>\n",
       "      <th>CTR</th>\n",
       "      <th>CPI</th>\n",
       "    </tr>\n",
       "    <tr>\n",
       "      <th>campaign_id</th>\n",
       "      <th></th>\n",
       "      <th></th>\n",
       "      <th></th>\n",
       "      <th></th>\n",
       "      <th></th>\n",
       "      <th></th>\n",
       "    </tr>\n",
       "  </thead>\n",
       "  <tbody>\n",
       "    <tr>\n",
       "      <th>campaign_10</th>\n",
       "      <td>0.0</td>\n",
       "      <td>5429764.0</td>\n",
       "      <td>213682.0</td>\n",
       "      <td>57194.6700</td>\n",
       "      <td>inf</td>\n",
       "      <td>0.267663</td>\n",
       "    </tr>\n",
       "    <tr>\n",
       "      <th>campaign_13</th>\n",
       "      <td>0.0</td>\n",
       "      <td>0.0</td>\n",
       "      <td>2.0</td>\n",
       "      <td>0.0000</td>\n",
       "      <td>NaN</td>\n",
       "      <td>0.000000</td>\n",
       "    </tr>\n",
       "    <tr>\n",
       "      <th>campaign_16</th>\n",
       "      <td>245177026.0</td>\n",
       "      <td>2132984.0</td>\n",
       "      <td>28776.0</td>\n",
       "      <td>18314.5937</td>\n",
       "      <td>0.008700</td>\n",
       "      <td>0.636454</td>\n",
       "    </tr>\n",
       "    <tr>\n",
       "      <th>campaign_4</th>\n",
       "      <td>0.0</td>\n",
       "      <td>0.0</td>\n",
       "      <td>26.0</td>\n",
       "      <td>0.0000</td>\n",
       "      <td>NaN</td>\n",
       "      <td>0.000000</td>\n",
       "    </tr>\n",
       "    <tr>\n",
       "      <th>campaign_5</th>\n",
       "      <td>0.0</td>\n",
       "      <td>0.0</td>\n",
       "      <td>1072.0</td>\n",
       "      <td>0.0000</td>\n",
       "      <td>NaN</td>\n",
       "      <td>0.000000</td>\n",
       "    </tr>\n",
       "    <tr>\n",
       "      <th>campaign_6</th>\n",
       "      <td>95681244.0</td>\n",
       "      <td>847818.0</td>\n",
       "      <td>3776.0</td>\n",
       "      <td>1422.1974</td>\n",
       "      <td>0.008861</td>\n",
       "      <td>0.376641</td>\n",
       "    </tr>\n",
       "    <tr>\n",
       "      <th>campaign_9</th>\n",
       "      <td>0.0</td>\n",
       "      <td>0.0</td>\n",
       "      <td>541224.0</td>\n",
       "      <td>0.0000</td>\n",
       "      <td>NaN</td>\n",
       "      <td>0.000000</td>\n",
       "    </tr>\n",
       "  </tbody>\n",
       "</table>\n",
       "</div>"
      ],
      "text/plain": [
       "             impressions     clicks  installs       spend       CTR       CPI\n",
       "campaign_id                                                                  \n",
       "campaign_10          0.0  5429764.0  213682.0  57194.6700       inf  0.267663\n",
       "campaign_13          0.0        0.0       2.0      0.0000       NaN  0.000000\n",
       "campaign_16  245177026.0  2132984.0   28776.0  18314.5937  0.008700  0.636454\n",
       "campaign_4           0.0        0.0      26.0      0.0000       NaN  0.000000\n",
       "campaign_5           0.0        0.0    1072.0      0.0000       NaN  0.000000\n",
       "campaign_6    95681244.0   847818.0    3776.0   1422.1974  0.008861  0.376641\n",
       "campaign_9           0.0        0.0  541224.0      0.0000       NaN  0.000000"
      ]
     },
     "execution_count": 25,
     "metadata": {},
     "output_type": "execute_result"
    }
   ],
   "source": [
    "df_campanias"
   ]
  },
  {
   "cell_type": "code",
   "execution_count": 26,
   "metadata": {
    "id": "SQRqdhovAFsC"
   },
   "outputs": [],
   "source": [
    "df_campanias=df_campanias.reset_index()"
   ]
  },
  {
   "cell_type": "code",
   "execution_count": 27,
   "metadata": {
    "colab": {
     "base_uri": "https://localhost:8080/",
     "height": 269
    },
    "id": "dRg8AoweAKZj",
    "outputId": "5ac53c33-5566-4206-d3cc-534b05f1ef73"
   },
   "outputs": [
    {
     "data": {
      "text/html": [
       "<div>\n",
       "<style scoped>\n",
       "    .dataframe tbody tr th:only-of-type {\n",
       "        vertical-align: middle;\n",
       "    }\n",
       "\n",
       "    .dataframe tbody tr th {\n",
       "        vertical-align: top;\n",
       "    }\n",
       "\n",
       "    .dataframe thead th {\n",
       "        text-align: right;\n",
       "    }\n",
       "</style>\n",
       "<table border=\"1\" class=\"dataframe\">\n",
       "  <thead>\n",
       "    <tr style=\"text-align: right;\">\n",
       "      <th></th>\n",
       "      <th>campaign_id</th>\n",
       "      <th>impressions</th>\n",
       "      <th>clicks</th>\n",
       "      <th>installs</th>\n",
       "      <th>spend</th>\n",
       "      <th>CTR</th>\n",
       "      <th>CPI</th>\n",
       "    </tr>\n",
       "  </thead>\n",
       "  <tbody>\n",
       "    <tr>\n",
       "      <th>0</th>\n",
       "      <td>campaign_10</td>\n",
       "      <td>0.0</td>\n",
       "      <td>5429764.0</td>\n",
       "      <td>213682.0</td>\n",
       "      <td>57194.6700</td>\n",
       "      <td>inf</td>\n",
       "      <td>0.267663</td>\n",
       "    </tr>\n",
       "    <tr>\n",
       "      <th>1</th>\n",
       "      <td>campaign_13</td>\n",
       "      <td>0.0</td>\n",
       "      <td>0.0</td>\n",
       "      <td>2.0</td>\n",
       "      <td>0.0000</td>\n",
       "      <td>NaN</td>\n",
       "      <td>0.000000</td>\n",
       "    </tr>\n",
       "    <tr>\n",
       "      <th>2</th>\n",
       "      <td>campaign_16</td>\n",
       "      <td>245177026.0</td>\n",
       "      <td>2132984.0</td>\n",
       "      <td>28776.0</td>\n",
       "      <td>18314.5937</td>\n",
       "      <td>0.008700</td>\n",
       "      <td>0.636454</td>\n",
       "    </tr>\n",
       "    <tr>\n",
       "      <th>3</th>\n",
       "      <td>campaign_4</td>\n",
       "      <td>0.0</td>\n",
       "      <td>0.0</td>\n",
       "      <td>26.0</td>\n",
       "      <td>0.0000</td>\n",
       "      <td>NaN</td>\n",
       "      <td>0.000000</td>\n",
       "    </tr>\n",
       "    <tr>\n",
       "      <th>4</th>\n",
       "      <td>campaign_5</td>\n",
       "      <td>0.0</td>\n",
       "      <td>0.0</td>\n",
       "      <td>1072.0</td>\n",
       "      <td>0.0000</td>\n",
       "      <td>NaN</td>\n",
       "      <td>0.000000</td>\n",
       "    </tr>\n",
       "    <tr>\n",
       "      <th>5</th>\n",
       "      <td>campaign_6</td>\n",
       "      <td>95681244.0</td>\n",
       "      <td>847818.0</td>\n",
       "      <td>3776.0</td>\n",
       "      <td>1422.1974</td>\n",
       "      <td>0.008861</td>\n",
       "      <td>0.376641</td>\n",
       "    </tr>\n",
       "    <tr>\n",
       "      <th>6</th>\n",
       "      <td>campaign_9</td>\n",
       "      <td>0.0</td>\n",
       "      <td>0.0</td>\n",
       "      <td>541224.0</td>\n",
       "      <td>0.0000</td>\n",
       "      <td>NaN</td>\n",
       "      <td>0.000000</td>\n",
       "    </tr>\n",
       "  </tbody>\n",
       "</table>\n",
       "</div>"
      ],
      "text/plain": [
       "   campaign_id  impressions     clicks  installs       spend       CTR  \\\n",
       "0  campaign_10          0.0  5429764.0  213682.0  57194.6700       inf   \n",
       "1  campaign_13          0.0        0.0       2.0      0.0000       NaN   \n",
       "2  campaign_16  245177026.0  2132984.0   28776.0  18314.5937  0.008700   \n",
       "3   campaign_4          0.0        0.0      26.0      0.0000       NaN   \n",
       "4   campaign_5          0.0        0.0    1072.0      0.0000       NaN   \n",
       "5   campaign_6   95681244.0   847818.0    3776.0   1422.1974  0.008861   \n",
       "6   campaign_9          0.0        0.0  541224.0      0.0000       NaN   \n",
       "\n",
       "        CPI  \n",
       "0  0.267663  \n",
       "1  0.000000  \n",
       "2  0.636454  \n",
       "3  0.000000  \n",
       "4  0.000000  \n",
       "5  0.376641  \n",
       "6  0.000000  "
      ]
     },
     "execution_count": 27,
     "metadata": {},
     "output_type": "execute_result"
    }
   ],
   "source": [
    "df_campanias"
   ]
  },
  {
   "cell_type": "code",
   "execution_count": 38,
   "metadata": {
    "id": "GjWhKrbzAN3F"
   },
   "outputs": [
    {
     "data": {
      "image/png": "[encoded data removed]",
      "text/plain": [
       "<Figure size 1440x720 with 1 Axes>"
      ]
     },
     "metadata": {
      "needs_background": "light"
     },
     "output_type": "display_data"
    }
   ],
   "source": [
    "fig, ax = plt.subplots(figsize = (20,10))\n",
    "\n",
    "plt.bar(df_campanias['campaign_id'],df_campanias['impressions'], color=\"r\", label=\"impressions\")\n",
    "plt.bar(df_campanias['campaign_id'],df_campanias['clicks'], color=\"g\", label=\"clicks\")\n",
    "plt.bar(df_campanias['campaign_id'],df_campanias['installs'], color=\"c\", label=\"installs\")\n",
    "plt.bar(df_campanias['campaign_id'],df_campanias['spend'], color=\"b\", label=\"spend\")\n",
    "plt.bar(df_campanias['campaign_id'],df_campanias['CTR'], color=\"m\", label=\"CTR\")\n",
    "plt.bar(df_campanias['campaign_id'],df_campanias['CPI'], color=\"y\", label=\"CPI\")\n",
    "\n",
    "ax.legend(bbox_to_anchor=(1.02, 1), loc=2, borderaxespad=0.)\n",
    "\n",
    "plt.show()"
   ]
  },
  {
   "cell_type": "markdown",
   "metadata": {},
   "source": [
    "Generamos un archivo csv a partir del dataframe"
   ]
  },
  {
   "cell_type": "code",
   "execution_count": 39,
   "metadata": {},
   "outputs": [],
   "source": [
    "df_campanias.to_csv('./data/data.csv')"
   ]
  }
 ],
 "metadata": {
  "colab": {
   "collapsed_sections": [],
   "name": "Examen_winclap.ipynb",
   "provenance": []
  },
  "kernelspec": {
   "display_name": "Python 3 (ipykernel)",
   "language": "python",
   "name": "python3"
  },
  "language_info": {
   "codemirror_mode": {
    "name": "ipython",
    "version": 3
   },
   "file_extension": ".py",
   "mimetype": "text/x-python",
   "name": "python",
   "nbconvert_exporter": "python",
   "pygments_lexer": "ipython3",
   "version": "3.9.12"
  }
 },
 "nbformat": 4,
 "nbformat_minor": 1
}
